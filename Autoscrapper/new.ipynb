{
 "cells": [
  {
   "cell_type": "code",
   "execution_count": 1,
   "metadata": {},
   "outputs": [],
   "source": [
    "from autoscraper import AutoScraper"
   ]
  },
  {
   "cell_type": "code",
   "execution_count": 37,
   "metadata": {},
   "outputs": [],
   "source": [
    "url = 'https://www.flipkart.com/search?q=iphone'\n",
    "sit_price = ['₹55,999']\n",
    "sit_title = ['APPLE iPhone 13 (Midnight, 128 GB)']"
   ]
  },
  {
   "cell_type": "code",
   "execution_count": 40,
   "metadata": {},
   "outputs": [],
   "source": [
    "scraper = AutoScraper()\n",
    "Result_price = scraper.build(url,sit_price)\n",
    "Result_title = scraper.build(url,sit_title)"
   ]
  },
  {
   "cell_type": "code",
   "execution_count": 47,
   "metadata": {},
   "outputs": [
    {
     "data": {
      "text/plain": [
       "['₹36,999',\n",
       " '₹55,999',\n",
       " '₹49,999',\n",
       " '₹67,999',\n",
       " '₹37,999',\n",
       " '₹40,999',\n",
       " '₹33,999',\n",
       " '₹44,999',\n",
       " '₹76,999']"
      ]
     },
     "execution_count": 47,
     "metadata": {},
     "output_type": "execute_result"
    }
   ],
   "source": [
    "Result_price"
   ]
  },
  {
   "cell_type": "code",
   "execution_count": 43,
   "metadata": {},
   "outputs": [
    {
     "data": {
      "text/plain": [
       "['APPLE iPhone 13 (Midnight, 128 GB)',\n",
       " 'APPLE iPhone 13 (Green, 128 GB)',\n",
       " 'APPLE iPhone 13 (Pink, 128 GB)',\n",
       " 'APPLE iPhone 13 (Blue, 128 GB)',\n",
       " 'APPLE iPhone 13 (Starlight, 128 GB)',\n",
       " 'APPLE iPhone 11 (Black, 64 GB)',\n",
       " 'APPLE iPhone 11 (White, 128 GB)',\n",
       " 'APPLE iPhone SE 3rd Gen (Starlight, 64 GB)',\n",
       " 'APPLE iPhone SE 3rd Gen (Starlight, 128 GB)',\n",
       " 'APPLE iPhone 11 (White, 64 GB)',\n",
       " 'APPLE iPhone 13 ((PRODUCT)RED, 128 GB)',\n",
       " 'APPLE iPhone SE 3rd Gen (Product (Red), 128 GB)',\n",
       " 'APPLE iPhone 14 (Purple, 128 GB)',\n",
       " 'APPLE iPhone 14 (Blue, 128 GB)',\n",
       " 'APPLE iPhone 14 (Midnight, 128 GB)',\n",
       " 'APPLE iPhone SE 3rd Gen (Midnight, 64 GB)',\n",
       " 'APPLE iPhone 14 (Starlight, 128 GB)',\n",
       " 'APPLE iPhone SE 3rd Gen (Product (Red), 64 GB)',\n",
       " 'APPLE iPhone SE 3rd Gen (Product (Red), 256 GB)',\n",
       " 'APPLE iPhone 14 Plus (Blue, 128 GB)',\n",
       " 'APPLE iPhone 12 (Purple, 64 GB)',\n",
       " 'APPLE iPhone 12 (Green, 64 GB)',\n",
       " 'APPLE iPhone 14 Plus (Purple, 128 GB)',\n",
       " 'APPLE iPhone 14 Plus (Midnight, 128 GB)']"
      ]
     },
     "execution_count": 43,
     "metadata": {},
     "output_type": "execute_result"
    }
   ],
   "source": [
    "Result_title"
   ]
  },
  {
   "cell_type": "code",
   "execution_count": 48,
   "metadata": {},
   "outputs": [
    {
     "data": {
      "text/plain": [
       "{'rule_1wx2': ['APPLE iPhone 13 (Midnight, 128 GB)',\n",
       "  'APPLE iPhone 13 (Green, 128 GB)',\n",
       "  'APPLE iPhone 13 (Pink, 128 GB)',\n",
       "  'APPLE iPhone 13 (Blue, 128 GB)',\n",
       "  'APPLE iPhone 13 (Starlight, 128 GB)',\n",
       "  'APPLE iPhone 11 (Black, 64 GB)',\n",
       "  'APPLE iPhone 11 (White, 128 GB)',\n",
       "  'APPLE iPhone SE 3rd Gen (Starlight, 64 GB)',\n",
       "  'APPLE iPhone SE 3rd Gen (Starlight, 128 GB)',\n",
       "  'APPLE iPhone 11 (White, 64 GB)',\n",
       "  'APPLE iPhone 13 ((PRODUCT)RED, 128 GB)',\n",
       "  'APPLE iPhone SE 3rd Gen (Product (Red), 128 GB)',\n",
       "  'APPLE iPhone 14 (Purple, 128 GB)',\n",
       "  'APPLE iPhone 14 (Blue, 128 GB)',\n",
       "  'APPLE iPhone 14 (Midnight, 128 GB)',\n",
       "  'APPLE iPhone SE 3rd Gen (Midnight, 64 GB)',\n",
       "  'APPLE iPhone 14 (Starlight, 128 GB)',\n",
       "  'APPLE iPhone SE 3rd Gen (Product (Red), 64 GB)',\n",
       "  'APPLE iPhone SE 3rd Gen (Product (Red), 256 GB)',\n",
       "  'APPLE iPhone 14 Plus (Blue, 128 GB)',\n",
       "  'APPLE iPhone 12 (Purple, 64 GB)',\n",
       "  'APPLE iPhone 12 (Green, 64 GB)',\n",
       "  'APPLE iPhone 14 Plus (Purple, 128 GB)',\n",
       "  'APPLE iPhone 14 Plus (Midnight, 128 GB)'],\n",
       " 'rule_u6x3': ['APPLE iPhone 13 (Midnight, 128 GB)',\n",
       "  'APPLE iPhone 13 (Green, 128 GB)',\n",
       "  'APPLE iPhone 13 (Pink, 128 GB)',\n",
       "  'APPLE iPhone 13 (Blue, 128 GB)',\n",
       "  'APPLE iPhone 13 (Starlight, 128 GB)',\n",
       "  'APPLE iPhone 11 (Black, 64 GB)',\n",
       "  'APPLE iPhone 11 (White, 128 GB)',\n",
       "  'APPLE iPhone SE 3rd Gen (Starlight, 64 GB)',\n",
       "  'APPLE iPhone SE 3rd Gen (Starlight, 128 GB)',\n",
       "  'APPLE iPhone 11 (White, 64 GB)',\n",
       "  'APPLE iPhone 13 ((PRODUCT)RED, 128 GB)',\n",
       "  'APPLE iPhone SE 3rd Gen (Product (Red), 128 GB)',\n",
       "  'APPLE iPhone 14 (Purple, 128 GB)',\n",
       "  'APPLE iPhone 14 (Blue, 128 GB)',\n",
       "  'APPLE iPhone 14 (Midnight, 128 GB)',\n",
       "  'APPLE iPhone SE 3rd Gen (Midnight, 64 GB)',\n",
       "  'APPLE iPhone 14 (Starlight, 128 GB)',\n",
       "  'APPLE iPhone SE 3rd Gen (Product (Red), 64 GB)',\n",
       "  'APPLE iPhone SE 3rd Gen (Product (Red), 256 GB)',\n",
       "  'APPLE iPhone 14 Plus (Blue, 128 GB)',\n",
       "  'APPLE iPhone 12 (Purple, 64 GB)',\n",
       "  'APPLE iPhone 12 (Green, 64 GB)',\n",
       "  'APPLE iPhone 14 Plus (Purple, 128 GB)',\n",
       "  'APPLE iPhone 14 Plus (Midnight, 128 GB)']}"
      ]
     },
     "execution_count": 48,
     "metadata": {},
     "output_type": "execute_result"
    }
   ],
   "source": [
    "scraper.get_result_similar(url, grouped=True)"
   ]
  },
  {
   "cell_type": "code",
   "execution_count": null,
   "metadata": {},
   "outputs": [],
   "source": []
  }
 ],
 "metadata": {
  "kernelspec": {
   "display_name": "base",
   "language": "python",
   "name": "python3"
  },
  "language_info": {
   "codemirror_mode": {
    "name": "ipython",
    "version": 3
   },
   "file_extension": ".py",
   "mimetype": "text/x-python",
   "name": "python",
   "nbconvert_exporter": "python",
   "pygments_lexer": "ipython3",
   "version": "3.11.4"
  },
  "orig_nbformat": 4
 },
 "nbformat": 4,
 "nbformat_minor": 2
}
