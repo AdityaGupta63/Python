{
 "cells": [
  {
   "cell_type": "code",
   "execution_count": null,
   "metadata": {},
   "outputs": [],
   "source": [
    "full_name = ['Aditya Gupta', 'Vijay kumar gupta', 'Ajay patel', 'Vimal pandey', 'Sachin yadav', 'Kunal rai', 'Golu maurya']\n",
    "\n",
    "# full_name = str(input('Enter your good name here : '))\n",
    "\n",
    "for name in full_name:\n",
    "    print(name)\n",
    "    print('In short name')\n",
    "    sn = name.split()\n",
    "    print(sn[0][0] + sn[-1][0], end='\\n \\n')\n",
    "\n"
   ]
  },
  {
   "cell_type": "code",
   "execution_count": 51,
   "metadata": {},
   "outputs": [
    {
     "name": "stdout",
     "output_type": "stream",
     "text": [
      "Your good name in shortern will be :  AG\n"
     ]
    }
   ],
   "source": [
    "full_name = str(input('Enter your full good name here : '))\n",
    "fl = full_name.split()\n",
    "print('Your good name in shortern will be : ', fl[0][0] + fl[-1][0])"
   ]
  },
  {
   "cell_type": "code",
   "execution_count": null,
   "metadata": {},
   "outputs": [],
   "source": []
  },
  {
   "cell_type": "code",
   "execution_count": null,
   "metadata": {},
   "outputs": [],
   "source": []
  }
 ],
 "metadata": {
  "kernelspec": {
   "display_name": "base",
   "language": "python",
   "name": "python3"
  },
  "language_info": {
   "codemirror_mode": {
    "name": "ipython",
    "version": 3
   },
   "file_extension": ".py",
   "mimetype": "text/x-python",
   "name": "python",
   "nbconvert_exporter": "python",
   "pygments_lexer": "ipython3",
   "version": "3.11.4"
  },
  "orig_nbformat": 4
 },
 "nbformat": 4,
 "nbformat_minor": 2
}
