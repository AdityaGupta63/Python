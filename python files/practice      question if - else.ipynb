{
 "cells": [
  {
   "cell_type": "markdown",
   "metadata": {},
   "source": [
    "write a program to check weather a person is eligible for voting or not \n"
   ]
  },
  {
   "cell_type": "code",
   "execution_count": 5,
   "metadata": {},
   "outputs": [
    {
     "name": "stdout",
     "output_type": "stream",
     "text": [
      "eligible for voting age here \n"
     ]
    }
   ],
   "source": [
    "a = int(input(\"enter a voting age here\"))\n",
    "if a >=18:\n",
    "    print(\"eligible for voting age here \")\n",
    "else:\n",
    "    print(\"eligible for not voting age here\")    "
   ]
  },
  {
   "cell_type": "markdown",
   "metadata": {},
   "source": [
    "write a program to print \"hello\" if the number entered by the user is divisible by 5 else print \"bye\""
   ]
  },
  {
   "cell_type": "code",
   "execution_count": 12,
   "metadata": {},
   "outputs": [],
   "source": [
    "a = int(input(\"entered a number here\"))\n",
    "if a % 5 == 0:\n",
    "    print(\"hello\")\n",
    "else:\n",
    "    (\"bye\")    "
   ]
  },
  {
   "cell_type": "markdown",
   "metadata": {},
   "source": [
    "write a program to display the largest digit of a number"
   ]
  },
  {
   "cell_type": "code",
   "execution_count": 14,
   "metadata": {},
   "outputs": [
    {
     "name": "stdout",
     "output_type": "stream",
     "text": [
      "a is the largest digit\n"
     ]
    }
   ],
   "source": [
    "a = int(input(\"enter a first number here\"))\n",
    "b = int(input(\"enter a second number here\"))\n",
    "c = int(input(\"enter a third number here\"))\n",
    "if a>b and b<a:\n",
    "    print(\"a is the largest digit\")\n",
    "elif b>c and c>b:\n",
    "    print(\"b is the largest digit\")\n",
    "else:\n",
    "    print(\"invalid input\")\n",
    "\n"
   ]
  },
  {
   "cell_type": "markdown",
   "metadata": {},
   "source": [
    "write a program to check weather is a leap leap year or not"
   ]
  },
  {
   "cell_type": "code",
   "execution_count": 17,
   "metadata": {},
   "outputs": [
    {
     "name": "stdout",
     "output_type": "stream",
     "text": [
      "leap yeaar\n"
     ]
    }
   ],
   "source": [
    "a = int(input(\"enter a month\"))\n",
    "if a == 30:\n",
    "    print(\"leap yeaar\")\n",
    "else:\n",
    "    print(\"not leap year\")    "
   ]
  },
  {
   "cell_type": "code",
   "execution_count": null,
   "metadata": {},
   "outputs": [],
   "source": []
  }
 ],
 "metadata": {
  "kernelspec": {
   "display_name": "base",
   "language": "python",
   "name": "python3"
  },
  "language_info": {
   "codemirror_mode": {
    "name": "ipython",
    "version": 3
   },
   "file_extension": ".py",
   "mimetype": "text/x-python",
   "name": "python",
   "nbconvert_exporter": "python",
   "pygments_lexer": "ipython3",
   "version": "3.11.4"
  },
  "orig_nbformat": 4
 },
 "nbformat": 4,
 "nbformat_minor": 2
}
