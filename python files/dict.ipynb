{
 "cells": [
  {
   "cell_type": "code",
   "execution_count": 6,
   "metadata": {},
   "outputs": [
    {
     "name": "stdout",
     "output_type": "stream",
     "text": [
      "{'title': 'The final Empire', 'author': 'Brandson Sandersson', 'price': '1499', 'Year': 2006, 'pages': 541, 'languages': ['english', 'french']}\n"
     ]
    }
   ],
   "source": [
    "data = {\n",
    "    'title' : 'The final Empire',\n",
    "    'author' : 'Brandson Sandersson',\n",
    "    'price' : '1499',\n",
    "    'Year' : 2006,\n",
    "    'pages' : 541,\n",
    "    'languages': ['english','french']\n",
    "}\n",
    "\n",
    "print(data)"
   ]
  },
  {
   "cell_type": "code",
   "execution_count": 8,
   "metadata": {},
   "outputs": [
    {
     "name": "stdout",
     "output_type": "stream",
     "text": [
      "{'title': 'The final Empire', 'author': 'Brandson Sandersson', 'price': '1499', 'Year': 2006, 'pages': 541, 'languages': ['english', 'french'], 'rating': 4.9, 'type': 'paperback'}\n"
     ]
    }
   ],
   "source": [
    "#to add data\n",
    "\n",
    "data['rating']=4.9\n",
    "data['type']='paperback'\n",
    "print(data)"
   ]
  },
  {
   "cell_type": "code",
   "execution_count": 11,
   "metadata": {},
   "outputs": [
    {
     "data": {
      "text/plain": [
       "['english', 'french']"
      ]
     },
     "execution_count": 11,
     "metadata": {},
     "output_type": "execute_result"
    }
   ],
   "source": [
    "#to display data\n",
    "\n",
    "data['Year']\n",
    "data['languages']"
   ]
  },
  {
   "cell_type": "code",
   "execution_count": 13,
   "metadata": {},
   "outputs": [
    {
     "data": {
      "text/plain": [
       "541"
      ]
     },
     "execution_count": 13,
     "metadata": {},
     "output_type": "execute_result"
    }
   ],
   "source": [
    "#to remove data\n",
    "\n",
    "data.pop('pages')"
   ]
  },
  {
   "cell_type": "code",
   "execution_count": 14,
   "metadata": {},
   "outputs": [
    {
     "name": "stdout",
     "output_type": "stream",
     "text": [
      "{'title': 'The final Empire', 'author': 'Brandson Sandersson', 'price': '1499', 'Year': 2006, 'languages': ['english', 'french'], 'rating': 4.9, 'type': 'paperback'}\n"
     ]
    }
   ],
   "source": [
    "print(data)"
   ]
  },
  {
   "cell_type": "code",
   "execution_count": 17,
   "metadata": {},
   "outputs": [
    {
     "data": {
      "text/plain": [
       "{'title': 'The final Empire',\n",
       " 'author': 'Brandson Sandersson',\n",
       " 'price': '1499',\n",
       " 'Year': 2006,\n",
       " 'languages': ['english', 'french'],\n",
       " 'rating': 4.9,\n",
       " 'type': 'paperback'}"
      ]
     },
     "execution_count": 17,
     "metadata": {},
     "output_type": "execute_result"
    }
   ],
   "source": [
    "data"
   ]
  },
  {
   "cell_type": "code",
   "execution_count": 19,
   "metadata": {},
   "outputs": [
    {
     "data": {
      "text/plain": [
       "['title', 'author', 'price', 'Year', 'languages', 'rating', 'type']"
      ]
     },
     "execution_count": 19,
     "metadata": {},
     "output_type": "execute_result"
    }
   ],
   "source": [
    "list(data.keys())"
   ]
  },
  {
   "cell_type": "code",
   "execution_count": 20,
   "metadata": {},
   "outputs": [
    {
     "data": {
      "text/plain": [
       "['The final Empire',\n",
       " 'Brandson Sandersson',\n",
       " '1499',\n",
       " 2006,\n",
       " ['english', 'french'],\n",
       " 4.9,\n",
       " 'paperback']"
      ]
     },
     "execution_count": 20,
     "metadata": {},
     "output_type": "execute_result"
    }
   ],
   "source": [
    "list(data.values())"
   ]
  },
  {
   "cell_type": "code",
   "execution_count": 21,
   "metadata": {},
   "outputs": [
    {
     "data": {
      "text/plain": [
       "[('title', 'The final Empire'),\n",
       " ('author', 'Brandson Sandersson'),\n",
       " ('price', '1499'),\n",
       " ('Year', 2006),\n",
       " ('languages', ['english', 'french']),\n",
       " ('rating', 4.9),\n",
       " ('type', 'paperback')]"
      ]
     },
     "execution_count": 21,
     "metadata": {},
     "output_type": "execute_result"
    }
   ],
   "source": [
    "list(data.items())"
   ]
  },
  {
   "cell_type": "code",
   "execution_count": 25,
   "metadata": {},
   "outputs": [
    {
     "name": "stdout",
     "output_type": "stream",
     "text": [
      "title\n",
      "author\n",
      "price\n",
      "Year\n",
      "languages\n",
      "rating\n",
      "type\n"
     ]
    }
   ],
   "source": [
    "for i in data.keys():\n",
    "    print(i)"
   ]
  },
  {
   "cell_type": "code",
   "execution_count": 27,
   "metadata": {},
   "outputs": [
    {
     "name": "stdout",
     "output_type": "stream",
     "text": [
      "('title', 'The final Empire')\n",
      "('author', 'Brandson Sandersson')\n",
      "('price', '1499')\n",
      "('Year', 2006)\n",
      "('languages', ['english', 'french'])\n",
      "('rating', 4.9)\n",
      "('type', 'paperback')\n"
     ]
    }
   ],
   "source": [
    "for items in data.items():\n",
    "    print(items)"
   ]
  },
  {
   "cell_type": "code",
   "execution_count": 28,
   "metadata": {},
   "outputs": [
    {
     "data": {
      "text/plain": [
       "'1499'"
      ]
     },
     "execution_count": 28,
     "metadata": {},
     "output_type": "execute_result"
    }
   ],
   "source": [
    "data.get('price')"
   ]
  },
  {
   "cell_type": "code",
   "execution_count": 30,
   "metadata": {},
   "outputs": [
    {
     "name": "stdout",
     "output_type": "stream",
     "text": [
      "{'thor 1': 9.8, 'endgame': 10.0, 'multiverse': 7.4}\n"
     ]
    }
   ],
   "source": [
    "#input program for movie rating with name\n",
    "\n",
    "my_rating = {}\n",
    "\n",
    "for i in range(1,4):\n",
    "    name = input(f'enter the name of movies {i} : ')\n",
    "    rating = float(input(f'enter the rating of movie {i} : '))\n",
    "    my_rating[name]=rating\n",
    "\n",
    "print(my_rating)"
   ]
  },
  {
   "cell_type": "code",
   "execution_count": 31,
   "metadata": {},
   "outputs": [
    {
     "data": {
      "text/plain": [
       "dict_keys(['thor 1', 'endgame', 'multiverse'])"
      ]
     },
     "execution_count": 31,
     "metadata": {},
     "output_type": "execute_result"
    }
   ],
   "source": [
    "my_rating.keys()"
   ]
  },
  {
   "cell_type": "code",
   "execution_count": 35,
   "metadata": {},
   "outputs": [
    {
     "name": "stdout",
     "output_type": "stream",
     "text": [
      "thor 1\n",
      "endgame\n",
      "multiverse\n",
      "------------------------------\n",
      "thor 1 9.8\n",
      "endgame 10.0\n",
      "multiverse 7.4\n",
      "------------------------------\n",
      "thor 1 9.8\n",
      "endgame 10.0\n",
      "multiverse 7.4\n"
     ]
    }
   ],
   "source": [
    "for i in my_rating:\n",
    "    print(i) #only keys\n",
    "\n",
    "print('---'* 10)\n",
    "for i in my_rating:\n",
    "    print(i, my_rating[i]) #only values\n",
    "\n",
    "print('---'* 10)\n",
    "for k,v in my_rating.items():\n",
    "    print(k,v) #both keys and values"
   ]
  },
  {
   "cell_type": "code",
   "execution_count": 38,
   "metadata": {},
   "outputs": [
    {
     "name": "stdout",
     "output_type": "stream",
     "text": [
      "{'book1': {'name': 'The final empire', 'author': 'anderson sanderson', 'year': 1799}, 'book2': {'name': 'The wall of Ascension', 'author': 'Branderon', 'year': 1989}, 'book3': {'name': 'The Ice Age', 'author': 'ken burion', 'year': 1980}}\n"
     ]
    }
   ],
   "source": [
    "#nested dict\n",
    "\n",
    "books = {\n",
    "    'book1' : {\n",
    "        'name' : 'The final empire',\n",
    "        'author' : 'anderson sanderson',\n",
    "        'year' : 1799\n",
    "    },\n",
    "    'book2' : {\n",
    "        'name' : 'The wall of Ascension',\n",
    "        'author' : 'Branderon',\n",
    "        'year' : 1989\n",
    "    },\n",
    "    'book3' : {\n",
    "        'name' : 'The Ice Age',\n",
    "        'author' : 'ken burion',\n",
    "        'year' : 1980\n",
    "    }\n",
    "}\n",
    "\n",
    "print(books)"
   ]
  },
  {
   "cell_type": "code",
   "execution_count": 39,
   "metadata": {},
   "outputs": [
    {
     "name": "stdout",
     "output_type": "stream",
     "text": [
      "book1\n",
      "book2\n",
      "book3\n"
     ]
    }
   ],
   "source": [
    "for i in books:\n",
    "    print(i)"
   ]
  },
  {
   "cell_type": "code",
   "execution_count": 43,
   "metadata": {},
   "outputs": [
    {
     "name": "stdout",
     "output_type": "stream",
     "text": [
      "b\n",
      "o\n",
      "o\n",
      "k\n",
      "3\n"
     ]
    }
   ],
   "source": [
    "for j in i:\n",
    "    print(j)"
   ]
  },
  {
   "cell_type": "code",
   "execution_count": 44,
   "metadata": {},
   "outputs": [
    {
     "name": "stdout",
     "output_type": "stream",
     "text": [
      "book1\n",
      "\tname, = The final empire\n",
      "\tauthor, = anderson sanderson\n",
      "\tyear, = 1799\n",
      "book2\n",
      "\tname, = The wall of Ascension\n",
      "\tauthor, = Branderon\n",
      "\tyear, = 1989\n",
      "book3\n",
      "\tname, = The Ice Age\n",
      "\tauthor, = ken burion\n",
      "\tyear, = 1980\n"
     ]
    }
   ],
   "source": [
    "#loop in nested dict\n",
    "\n",
    "for name, details in books.items():\n",
    "    print(name)\n",
    "    for k,v in details.items():\n",
    "        print(f'\\t{k}, = {v}')"
   ]
  },
  {
   "cell_type": "code",
   "execution_count": 45,
   "metadata": {},
   "outputs": [
    {
     "name": "stdout",
     "output_type": "stream",
     "text": [
      "book1\n",
      "name The final empire\n",
      "author anderson sanderson\n",
      "year 1799\n",
      "book2\n",
      "name The wall of Ascension\n",
      "author Branderon\n",
      "year 1989\n",
      "book3\n",
      "name The Ice Age\n",
      "author ken burion\n",
      "year 1980\n"
     ]
    }
   ],
   "source": [
    "for name, details in books.items():\n",
    "    print(name)\n",
    "    for k,v in details.items():\n",
    "        print(k, v)"
   ]
  },
  {
   "cell_type": "code",
   "execution_count": 49,
   "metadata": {},
   "outputs": [
    {
     "name": "stdout",
     "output_type": "stream",
     "text": [
      "book1 {'name': 'The final empire', 'author': 'anderson sanderson', 'year': 1799}\n"
     ]
    }
   ],
   "source": [
    "query = 'The final empire'\n",
    "for name,details in books.items():\n",
    "    if query in details['name']:\n",
    "        print(name,details)"
   ]
  },
  {
   "cell_type": "markdown",
   "metadata": {},
   "source": [
    "way to create a dictionary that store number and their squares"
   ]
  },
  {
   "cell_type": "code",
   "execution_count": 55,
   "metadata": {},
   "outputs": [
    {
     "ename": "TypeError",
     "evalue": "unhashable type: 'set'",
     "output_type": "error",
     "traceback": [
      "\u001b[1;31m---------------------------------------------------------------------------\u001b[0m",
      "\u001b[1;31mTypeError\u001b[0m                                 Traceback (most recent call last)",
      "Cell \u001b[1;32mIn[55], line 5\u001b[0m\n\u001b[0;32m      3\u001b[0m num1 \u001b[39m=\u001b[39m {\u001b[39mf\u001b[39m\u001b[39m'\u001b[39m\u001b[39menter num1 here : \u001b[39m\u001b[39m{\u001b[39;00mi\u001b[39m}\u001b[39;00m\u001b[39m'\u001b[39m},\n\u001b[0;32m      4\u001b[0m num2 \u001b[39m=\u001b[39m {\u001b[39mf\u001b[39m\u001b[39m'\u001b[39m\u001b[39menter num1 here : \u001b[39m\u001b[39m{\u001b[39;00mi\u001b[39m}\u001b[39;00m\u001b[39m'\u001b[39m},\n\u001b[1;32m----> 5\u001b[0m num[num1]\u001b[39m=\u001b[39mnum2\n",
      "\u001b[1;31mTypeError\u001b[0m: unhashable type: 'set'"
     ]
    }
   ],
   "source": [
    "num = {}\n",
    "for i in range(1,4):\n",
    "    num1 = {f'enter num1 here : {i}'},\n",
    "    num2 = {f'enter num1 here : {i}'},\n",
    "    num[num1]=num2\n"
   ]
  },
  {
   "cell_type": "code",
   "execution_count": 58,
   "metadata": {},
   "outputs": [
    {
     "name": "stdout",
     "output_type": "stream",
     "text": [
      "{'kaju': 200, 'apple': 150}\n"
     ]
    }
   ],
   "source": []
  },
  {
   "cell_type": "markdown",
   "metadata": {},
   "source": [
    "wap to ask user to enter item and its price and then store it in a dictionary, the program should stop when the user wants. hint :- while loop"
   ]
  },
  {
   "cell_type": "code",
   "execution_count": 1,
   "metadata": {},
   "outputs": [
    {
     "name": "stdout",
     "output_type": "stream",
     "text": [
      "{'apple': 139, 'grape': 221}\n"
     ]
    }
   ],
   "source": [
    "items = {}\n",
    "while True:\n",
    "    item = input('Enter name')\n",
    "    if not item: break\n",
    "    price = int(input('enter price'))\n",
    "    items[item] = price\n",
    "print(items)\n"
   ]
  },
  {
   "cell_type": "code",
   "execution_count": null,
   "metadata": {},
   "outputs": [],
   "source": []
  }
 ],
 "metadata": {
  "kernelspec": {
   "display_name": "base",
   "language": "python",
   "name": "python3"
  },
  "language_info": {
   "codemirror_mode": {
    "name": "ipython",
    "version": 3
   },
   "file_extension": ".py",
   "mimetype": "text/x-python",
   "name": "python",
   "nbconvert_exporter": "python",
   "pygments_lexer": "ipython3",
   "version": "3.11.4"
  },
  "orig_nbformat": 4
 },
 "nbformat": 4,
 "nbformat_minor": 2
}
