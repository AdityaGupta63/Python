{
 "cells": [
  {
   "cell_type": "code",
   "execution_count": 3,
   "metadata": {},
   "outputs": [],
   "source": [
    "items = {}\n",
    "\n",
    "while input(\"Enter 'Y' to procede : \"):\n",
    "        if input == 'Y':\n",
    "            product_name = input('Enter your product name here : ')\n",
    "            product_price = input('Enter your product price here : ')\n",
    "        else:\n",
    "            break"
   ]
  },
  {
   "cell_type": "code",
   "execution_count": 11,
   "metadata": {},
   "outputs": [
    {
     "name": "stdout",
     "output_type": "stream",
     "text": [
      "{'Aditya Gupta': 'aditya gupta', 'Lucknow': 'lucknow', 1234: 1234}\n"
     ]
    }
   ],
   "source": [
    "container = {}\n",
    "\n",
    "for i in range(1):\n",
    "    name = input('Enter your name here : ')\n",
    "    address = input('Enter your address here : ')\n",
    "    number = int(input('Enter your  number here : '))\n",
    "\n",
    "    container[name.title()] = name\n",
    "    container[address.title()] = address\n",
    "    container[number] = number\n",
    "\n",
    "    print(container)"
   ]
  },
  {
   "cell_type": "code",
   "execution_count": 14,
   "metadata": {},
   "outputs": [],
   "source": [
    "fruits = []\n",
    "\n",
    "while True:\n",
    "    fruits = input('Enter available fruits here : ')\n",
    "    if fruits == 'ho gya':\n",
    "        break\n",
    "\n",
    "print=(fruits)"
   ]
  },
  {
   "cell_type": "code",
   "execution_count": 15,
   "metadata": {},
   "outputs": [
    {
     "ename": "TypeError",
     "evalue": "'str' object is not callable",
     "output_type": "error",
     "traceback": [
      "\u001b[1;31m---------------------------------------------------------------------------\u001b[0m",
      "\u001b[1;31mTypeError\u001b[0m                                 Traceback (most recent call last)",
      "Cell \u001b[1;32mIn[15], line 1\u001b[0m\n\u001b[1;32m----> 1\u001b[0m \u001b[39mprint\u001b[39m(fruits)\n",
      "\u001b[1;31mTypeError\u001b[0m: 'str' object is not callable"
     ]
    }
   ],
   "source": [
    "print(fruits)"
   ]
  },
  {
   "cell_type": "code",
   "execution_count": null,
   "metadata": {},
   "outputs": [],
   "source": []
  }
 ],
 "metadata": {
  "kernelspec": {
   "display_name": "base",
   "language": "python",
   "name": "python3"
  },
  "language_info": {
   "codemirror_mode": {
    "name": "ipython",
    "version": 3
   },
   "file_extension": ".py",
   "mimetype": "text/x-python",
   "name": "python",
   "nbconvert_exporter": "python",
   "pygments_lexer": "ipython3",
   "version": "3.11.4"
  },
  "orig_nbformat": 4
 },
 "nbformat": 4,
 "nbformat_minor": 2
}
